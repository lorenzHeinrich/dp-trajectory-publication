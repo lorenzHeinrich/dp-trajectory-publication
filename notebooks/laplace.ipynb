{
 "cells": [
  {
   "cell_type": "code",
   "execution_count": null,
   "metadata": {},
   "outputs": [],
   "source": [
    "import numpy as np\n",
    "import matplotlib.pyplot as plt\n",
    "from scipy.stats import laplace\n",
    "\n",
    "# Define parameters\n",
    "b_values = [0.5, 1, 2, 10]  # Different scale values\n",
    "num_samples = 1000\n",
    "x = np.linspace(-10, 10, 1000)\n",
    "\n",
    "plt.figure(figsize=(8, 5))\n",
    "\n",
    "# Plot different Laplace distributions\n",
    "for b in b_values:\n",
    "    samples = laplace.rvs(loc=0, scale=b, size=num_samples)\n",
    "    plt.hist(samples, bins=50, density=True, alpha=0.6, label=f\"b = {b}\")\n",
    "\n",
    "    # Plot theoretical PDF\n",
    "    plt.plot(x, laplace.pdf(x, loc=0, scale=b), label=f\"PDF (b={b})\")\n",
    "\n",
    "plt.xlabel(\"x\")\n",
    "plt.ylabel(\"Density\")\n",
    "plt.title(\"Effect of Scale Parameter on Laplace Distribution\")\n",
    "plt.legend()\n",
    "plt.grid()\n",
    "plt.show()\n"
   ]
  },
  {
   "cell_type": "code",
   "execution_count": null,
   "metadata": {},
   "outputs": [],
   "source": [
    "import numpy as np\n",
    "import matplotlib.pyplot as plt\n",
    "from scipy.stats import laplace\n",
    "\n",
    "# Define the scale values exponentially degrading from 1 to 100\n",
    "eps = [1, 0.5, 0.1, 0.01, 0.001]\n",
    "\n",
    "# Define the x values\n",
    "x = np.linspace(-100, 100, 1000)\n",
    "\n",
    "# Plot the Laplace distributions\n",
    "plt.figure(figsize=(10, 6))\n",
    "for e in eps:\n",
    "    print(e)\n",
    "    plt.plot(x, laplace.pdf(x, loc=0, scale=1/e), label=f'eps={e} -> scale={1/e:.2f}')\n",
    "\n",
    "plt.title('Laplace Distributions with loc=0 and varying scale')\n",
    "plt.xlabel('x')\n",
    "plt.ylabel('Probability Density')\n",
    "plt.legend(loc='upper right', fontsize='small')\n",
    "plt.show()"
   ]
  }
 ],
 "metadata": {
  "kernelspec": {
   "display_name": ".venv",
   "language": "python",
   "name": "python3"
  },
  "language_info": {
   "codemirror_mode": {
    "name": "ipython",
    "version": 3
   },
   "file_extension": ".py",
   "mimetype": "text/x-python",
   "name": "python",
   "nbconvert_exporter": "python",
   "pygments_lexer": "ipython3",
   "version": "3.12.7"
  }
 },
 "nbformat": 4,
 "nbformat_minor": 2
}
