{
 "cells": [
  {
   "cell_type": "code",
   "execution_count": null,
   "id": "03944bbe",
   "metadata": {},
   "outputs": [],
   "source": [
    "import os\n",
    "import numpy as np\n",
    "import seaborn as sns\n",
    "import pandas as pd\n",
    "from matplotlib import pyplot as plt\n",
    "\n",
    "os.makedirs('../figures/hua', exist_ok=True)"
   ]
  },
  {
   "cell_type": "code",
   "execution_count": null,
   "id": "3e77ae99",
   "metadata": {},
   "outputs": [],
   "source": [
    "single_stats = pd.read_csv(\"../results/hua_stats.csv\")\n",
    "runs = single_stats[\"run\"].unique()\n",
    "print(\"Results from {len(runs)} runs per configuration\")"
   ]
  },
  {
   "cell_type": "code",
   "execution_count": null,
   "id": "ba6b6d77",
   "metadata": {},
   "outputs": [],
   "source": [
    "# we consider only the runs over the complete range (0, 36)\n",
    "single_stats = single_stats[single_stats[\"tu\"] >= 36]\n",
    "single_stats.info()"
   ]
  },
  {
   "cell_type": "code",
   "execution_count": null,
   "id": "08b60e3d",
   "metadata": {},
   "outputs": [],
   "source": [
    "# average hausdorff over configuration eps, m, tl, tu\n",
    "mean_stats = single_stats.groupby([\"eps\", \"m\", \"tl\", \"tu\"]).agg(\n",
    "    {\n",
    "        \"hausdorff\": [\"mean\"],\n",
    "        \"duration\": [\"mean\"],\n",
    "        \"run\": [\"count\"],\n",
    "    }\n",
    ")\n",
    "mean_stats.columns = [\"hausdorff_mean\", \"duration_mean\", \"count\"]\n",
    "mean_stats = mean_stats.reset_index()\n",
    "mean_stats"
   ]
  },
  {
   "cell_type": "code",
   "execution_count": null,
   "id": "ae113bcd",
   "metadata": {},
   "outputs": [],
   "source": [
    "# Plot mean hausdorff distance vs m for different eps\n",
    "plt.figure(figsize=(12, 8))\n",
    "sns.set_theme(style=\"whitegrid\")\n",
    "sns.set_palette(\"colorblind\")\n",
    "sns.set_context(\"paper\", font_scale=1.5)\n",
    "sns.set_style(\"whitegrid\")\n",
    "\n",
    "def plot_hausdorff(eps):\n",
    "    subset = mean_stats[mean_stats[\"eps\"] == eps]\n",
    "    plt.plot(\n",
    "        subset[\"m\"],\n",
    "        subset[\"hausdorff_mean\"],\n",
    "        marker=\"o\",\n",
    "        label=f\"eps={eps}\",\n",
    "    )\n",
    "\n",
    "for eps in single_stats[\"eps\"].unique():\n",
    "    plot_hausdorff(eps)\n",
    "\n",
    "plt.xlabel(\"m\")\n",
    "plt.xticks(mean_stats[\"m\"].unique())\n",
    "plt.ylabel(\"Hausdorff distance\")\n",
    "plt.title(\"Hausdorff distance vs m\")\n",
    "plt.legend()\n",
    "plt.savefig(\"../figures/hua/hausdorff_vs_m.svg\")\n",
    "plt.show()"
   ]
  },
  {
   "cell_type": "code",
   "execution_count": null,
   "id": "91073bb3",
   "metadata": {},
   "outputs": [],
   "source": [
    "# Boxplot of hausdorff distance vs m for different eps\n",
    "plt.figure(figsize=(12, 8))\n",
    "sns.set_theme(style=\"whitegrid\")\n",
    "sns.set_palette(\"colorblind\")\n",
    "sns.set_context(\"paper\", font_scale=1.5)\n",
    "sns.set_style(\"whitegrid\")\n",
    "sns.boxplot(\n",
    "    data=single_stats,\n",
    "    x=\"m\",\n",
    "    y=\"hausdorff\",\n",
    "    hue=\"eps\",\n",
    "    palette=\"colorblind\",\n",
    ")\n",
    "plt.xlabel(\"m\")\n",
    "plt.ylabel(\"Hausdorff distance\")\n",
    "plt.title(f\"Hausdorff distance vs m over {len(runs)} runs\")\n",
    "plt.legend(title=\"eps\")\n",
    "plt.savefig(\"../figures/hua/boxplot_hausdorff_vs_m.svg\")\n",
    "plt.show()"
   ]
  },
  {
   "cell_type": "code",
   "execution_count": null,
   "id": "a2b353bd",
   "metadata": {},
   "outputs": [],
   "source": [
    "# import range query results\n",
    "range_query = pd.read_csv(\"../results/hua_query_distortion.csv\")\n",
    "# we are interested in the results for the complete range (0, 36)\n",
    "range_query = range_query[range_query[\"tu\"] >= 36]\n",
    "range_query.info()"
   ]
  },
  {
   "cell_type": "code",
   "execution_count": null,
   "id": "ae0894a8",
   "metadata": {},
   "outputs": [],
   "source": [
    "# average distortion over configuration eps, m, tl, tu\n",
    "mean_distortion_per_run = range_query.groupby([\"run\", \"eps\", \"m\", \"tl\", \"tu\"]).agg(\n",
    "    {\n",
    "        \"psi_distortion\": [\"mean\"],\n",
    "        \"dai_distortion\": [\"mean\"],\n",
    "        \"run\": [\"count\"],\n",
    "    }\n",
    ")\n",
    "mean_distortion_per_run.columns = [\"psi_distortion_mean\", \"dai_distortion_mean\", \"count\"]\n",
    "mean_distortion_per_run = mean_distortion_per_run.reset_index()\n",
    "mean_distortion_per_run"
   ]
  },
  {
   "cell_type": "code",
   "execution_count": null,
   "id": "050bd3f4",
   "metadata": {},
   "outputs": [],
   "source": [
    "mean_distortion = mean_distortion_per_run.groupby([\"eps\", \"m\", \"tl\", \"tu\"]).agg(\n",
    "    {\n",
    "        \"psi_distortion_mean\": [\"mean\"],\n",
    "        \"dai_distortion_mean\": [\"mean\"],\n",
    "        \"count\": [\"count\"],\n",
    "    }\n",
    ")\n",
    "mean_distortion.columns = [\"psi_distortion_mean\", \"dai_distortion_mean\", \"count\"]\n",
    "mean_distortion = mean_distortion.reset_index()\n",
    "mean_distortion"
   ]
  },
  {
   "cell_type": "code",
   "execution_count": null,
   "id": "c61d63eb",
   "metadata": {},
   "outputs": [],
   "source": [
    "def surface_plot_3d(query, query_label):\n",
    "    m_values = mean_distortion[\"m\"].unique()\n",
    "    eps_values = mean_distortion[\"eps\"].unique()\n",
    "    E, M = np.meshgrid(eps_values, m_values)\n",
    "    Z = np.zeros((len(m_values), len(eps_values)))\n",
    "    for i, eps in enumerate(eps_values):\n",
    "        for j, m in enumerate(m_values):\n",
    "            Z[i, j] = mean_distortion[\n",
    "                (mean_distortion[\"m\"] == m) & (mean_distortion[\"eps\"] == eps)\n",
    "            ][query].values[0]\n",
    "    fig = plt.figure(figsize=(12, 8))\n",
    "    ax = fig.add_subplot(111, projection=\"3d\")\n",
    "    ax.plot_surface(E, M, Z, cmap=\"viridis\") # type: ignore\n",
    "    ax.set_xlabel(r\"$\\varepsilon$\")\n",
    "    ax.set_ylabel(\"m\")\n",
    "    ax.set_zlabel(query_label) # type: ignore\n",
    "    ax.set_title(f\"{query_label} vs eps and m\")\n",
    "\n",
    "    plt.savefig(f\"../figures/hua/{query}_vs_eps_m.svg\")\n",
    "    plt.show()"
   ]
  },
  {
   "cell_type": "code",
   "execution_count": null,
   "id": "26f7f021",
   "metadata": {},
   "outputs": [],
   "source": [
    "surface_plot_3d(\"psi_distortion_mean\", r\"$PSI$-distortion\")"
   ]
  },
  {
   "cell_type": "code",
   "execution_count": null,
   "id": "8cc0092e",
   "metadata": {},
   "outputs": [],
   "source": [
    "surface_plot_3d(\"dai_distortion_mean\", r\"$DAI$-distortion\")"
   ]
  },
  {
   "cell_type": "code",
   "execution_count": null,
   "id": "571ddd60",
   "metadata": {},
   "outputs": [],
   "source": [
    "# 3D surface plot of runtime vs m and eps\n",
    "fig = plt.figure(figsize=(12, 8))\n",
    "ax = fig.add_subplot(111, projection=\"3d\")\n",
    "\n",
    "X, Y = np.meshgrid(mean_stats[\"m\"].unique(), mean_stats[\"eps\"].unique())\n",
    "Z = np.array([\n",
    "    mean_stats[(mean_stats[\"m\"] == m) & (mean_stats[\"eps\"] == eps)][\"duration_mean\"].values[0]\n",
    "    if not mean_stats[(mean_stats[\"m\"] == m) & (mean_stats[\"eps\"] == eps)].empty else np.nan\n",
    "    for eps in Y[:, 0] for m in X[0, :]\n",
    "]).reshape(X.shape)\n",
    "\n",
    "surf = ax.plot_surface(X, Y, Z, edgecolor=\"k\", alpha=0.8)\n",
    "\n",
    "ax.set_xlabel(\"m\")\n",
    "ax.set_ylabel(\"eps\")\n",
    "ax.set_zlabel(\"Runtime (s)\")\n",
    "ax.set_title(\"Runtime vs m and eps\")\n",
    "ax.invert_xaxis()\n",
    "\n",
    "\n",
    "plt.savefig(\"../figures/hua/runtime_surface_plot.svg\")\n",
    "plt.show()"
   ]
  }
 ],
 "metadata": {
  "kernelspec": {
   "display_name": ".venv",
   "language": "python",
   "name": "python3"
  },
  "language_info": {
   "codemirror_mode": {
    "name": "ipython",
    "version": 3
   },
   "file_extension": ".py",
   "mimetype": "text/x-python",
   "name": "python",
   "nbconvert_exporter": "python",
   "pygments_lexer": "ipython3",
   "version": "3.12.7"
  }
 },
 "nbformat": 4,
 "nbformat_minor": 5
}
