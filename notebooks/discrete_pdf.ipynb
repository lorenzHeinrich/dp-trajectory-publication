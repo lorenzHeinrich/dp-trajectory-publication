{
 "cells": [
  {
   "cell_type": "code",
   "execution_count": 95,
   "metadata": {},
   "outputs": [
    {
     "data": {
      "text/plain": [
       "[0.098, 0.1, 0.103, 0.103, 0.094, 0.099, 0.102, 0.098, 0.102, 0.1]"
      ]
     },
     "execution_count": 95,
     "metadata": {},
     "output_type": "execute_result"
    }
   ],
   "source": [
    "import secrets\n",
    "import numpy as np\n",
    "\n",
    "results = {}\n",
    "for i in range(10000):\n",
    "    res = secrets.choice(np.linspace(1,10,10))\n",
    "    count = results.setdefault(res, 0)\n",
    "    results[res] = count + 1\n",
    "\n",
    "[round(count / 10000, 3) for count in results.values()]"
   ]
  }
 ],
 "metadata": {
  "kernelspec": {
   "display_name": ".venv",
   "language": "python",
   "name": "python3"
  },
  "language_info": {
   "codemirror_mode": {
    "name": "ipython",
    "version": 3
   },
   "file_extension": ".py",
   "mimetype": "text/x-python",
   "name": "python",
   "nbconvert_exporter": "python",
   "pygments_lexer": "ipython3",
   "version": "3.12.7"
  }
 },
 "nbformat": 4,
 "nbformat_minor": 2
}
