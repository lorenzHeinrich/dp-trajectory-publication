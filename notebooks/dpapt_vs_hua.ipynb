{
 "cells": [
  {
   "cell_type": "code",
   "execution_count": null,
   "id": "679b7849",
   "metadata": {},
   "outputs": [],
   "source": [
    "import numpy as np\n",
    "import matplotlib.pyplot as plt\n",
    "import seaborn as sns\n",
    "import pandas as pd"
   ]
  },
  {
   "cell_type": "code",
   "execution_count": null,
   "id": "94e2cb0a",
   "metadata": {},
   "outputs": [],
   "source": [
    "def filter_df(df, filters):\n",
    "    df_filtered = df.copy()\n",
    "    for col, val in filters.items():\n",
    "        if isinstance(val, list):\n",
    "            df_filtered = df_filtered[df_filtered[col].isin(val)]\n",
    "        else:\n",
    "            df_filtered = df_filtered[df_filtered[col] == val]\n",
    "    return df_filtered"
   ]
  },
  {
   "cell_type": "code",
   "execution_count": null,
   "id": "e4ba4226",
   "metadata": {},
   "outputs": [],
   "source": [
    "dpapt_stats = pd.read_csv('../results/dpapt/cluster_extended/stats.csv')\n",
    "dpapt_stats['t_span'] = dpapt_stats['tu'] - dpapt_stats['tl'] + 1\n",
    "dpapt_stats['hd_norm'] = dpapt_stats[\"hausdorff\"] / np.sqrt(2 * dpapt_stats[\"t_span\"])\n",
    "dpapt_stats['algo'] = 'DPAPT'\n",
    "\n",
    "\n",
    "hua_stats = pd.read_csv('../results/hua/medium/stats.csv')\n",
    "hua_stats['t_span'] = hua_stats['tu'] - hua_stats['tl'] + 1\n",
    "hua_stats['hd_norm'] = hua_stats[\"hausdorff\"] / np.sqrt(2 * hua_stats[\"t_span\"])\n",
    "hua_stats['eps'] = hua_stats['ep']\n",
    "hua_stats.drop(columns=['ep'], inplace=True)\n",
    "hua_stats['algo'] = 'HUA'\n"
   ]
  },
  {
   "cell_type": "code",
   "execution_count": null,
   "id": "b51a905e",
   "metadata": {},
   "outputs": [],
   "source": [
    "dpapt_filtered = filter_df(dpapt_stats, {'n_clusters' : 15, 'eps': 1.0})\n",
    "hua_filtered = filter_df(hua_stats, {'m' : 15, 'eps': 1.0})"
   ]
  },
  {
   "cell_type": "code",
   "execution_count": null,
   "id": "e2137dc5",
   "metadata": {},
   "outputs": [],
   "source": [
    "combined = pd.concat([dpapt_filtered, hua_filtered], ignore_index=True)"
   ]
  },
  {
   "cell_type": "code",
   "execution_count": null,
   "id": "d0c495b6",
   "metadata": {},
   "outputs": [],
   "source": [
    "sns.boxplot(\n",
    "    data=combined,\n",
    "    x='t_span',\n",
    "    y='hd_norm',\n",
    "    hue='algo',\n",
    ")"
   ]
  },
  {
   "cell_type": "code",
   "execution_count": null,
   "id": "85e33cdb",
   "metadata": {},
   "outputs": [],
   "source": [
    "dpapt_dist = pd.read_csv('../results/dpapt/cluster_extended/indiv_hd.csv')\n",
    "dpapt_dist['t_span'] = dpapt_dist['tu'] - dpapt_dist['tl'] + 1\n",
    "dpapt_dist['hd_norm'] = dpapt_dist[\"individual_hausdorff\"] / np.sqrt(2 * dpapt_dist[\"t_span\"])\n",
    "dpapt_dist['algo'] = 'DPAPT'\n",
    "\n",
    "hua_dist = pd.read_csv('../results/hua/medium/indiv_hd.csv')\n",
    "hua_dist['t_span'] = hua_dist['tu'] - hua_dist['tl'] + 1\n",
    "hua_dist['hd_norm'] = hua_dist[\"individual_hausdorff\"] / np.sqrt(2 * hua_dist[\"t_span\"])\n",
    "hua_dist['eps'] = hua_dist['ep']\n",
    "hua_dist.drop(columns=['ep'], inplace=True)\n",
    "hua_dist['algo'] = 'HUA'"
   ]
  },
  {
   "cell_type": "code",
   "execution_count": null,
   "id": "c7fcd4e1",
   "metadata": {},
   "outputs": [],
   "source": [
    "dpapt_filtered = filter_df(dpapt_dist, {'n_clusters' : 15, 'eps': 1.0})\n",
    "hua_filtered = filter_df(hua_dist, {'m' : 15, 'eps': 1.0})\n",
    "combined = pd.concat([dpapt_filtered, hua_filtered], ignore_index=True)"
   ]
  },
  {
   "cell_type": "code",
   "execution_count": null,
   "id": "fe40858b",
   "metadata": {},
   "outputs": [],
   "source": [
    "\n",
    "t_spans = sorted(hua_filtered['t_span'].unique())\n",
    "palette = sns.color_palette(\"colorblind\", n_colors=len(t_spans))\n",
    "tspan_colors = {t: palette[i] for i, t in enumerate(t_spans)}\n",
    "for t in t_spans:\n",
    "    data_t = dpapt_filtered[dpapt_filtered[\"t_span\"] == t]\n",
    "    sns.kdeplot(\n",
    "        data=data_t,\n",
    "        x=\"hd_norm\",\n",
    "        label=f\"DPAPT (t={t})\",\n",
    "        color=tspan_colors[t],\n",
    "        linestyle=\"-\",\n",
    "        # bw_adjust=0.7,\n",
    "        clip=(0, None),\n",
    "        common_norm=False\n",
    "    )\n",
    "\n",
    "# HUA curves (e.g. dashed line)\n",
    "for t in t_spans:\n",
    "    data_t = hua_filtered[hua_filtered[\"t_span\"] == t]\n",
    "    sns.kdeplot(\n",
    "        data=data_t,\n",
    "        x=\"hd_norm\",\n",
    "        label=f\"HUA (t={t})\",\n",
    "        color=tspan_colors[t],\n",
    "        linestyle=\"--\",\n",
    "        # bw_adjust=0.7,\n",
    "        clip=(0, None),\n",
    "        common_norm=False\n",
    "    )\n",
    "\n",
    "plt.xlabel(\"Individual Hausdorff Distance\")\n",
    "plt.ylabel(\"Density\")\n",
    "plt.title(\"Comparison of DPAPT and HUA by Time Span\")\n",
    "plt.legend(title=\"Method (Time Span)\")\n",
    "plt.grid(True)\n",
    "plt.savefig(\"../figures/dpapt/dpapt_hua_comparison.pdf\", bbox_inches='tight')\n",
    "plt.show()"
   ]
  },
  {
   "cell_type": "code",
   "execution_count": null,
   "id": "e45f0f81",
   "metadata": {},
   "outputs": [],
   "source": []
  }
 ],
 "metadata": {
  "kernelspec": {
   "display_name": ".venv",
   "language": "python",
   "name": "python3"
  },
  "language_info": {
   "codemirror_mode": {
    "name": "ipython",
    "version": 3
   },
   "file_extension": ".py",
   "mimetype": "text/x-python",
   "name": "python",
   "nbconvert_exporter": "python",
   "pygments_lexer": "ipython3",
   "version": "3.12.7"
  }
 },
 "nbformat": 4,
 "nbformat_minor": 5
}
