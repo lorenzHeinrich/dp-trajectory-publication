{
 "cells": [
  {
   "cell_type": "code",
   "execution_count": 6,
   "metadata": {},
   "outputs": [],
   "source": [
    "import pandas as pd\n",
    "\n",
    "\n",
    "df = pd.read_csv(\"../tests/data/fake-trajectories_500x5.csv\")\n",
    "df_t0 = df[df[\"timestamp\"] == 0]"
   ]
  },
  {
   "cell_type": "code",
   "execution_count": 7,
   "metadata": {},
   "outputs": [],
   "source": [
    "from sklearn.cluster import KMeans\n",
    "\n",
    "\n",
    "kmeans = KMeans(50).fit(df_t0[[\"longitude\", \"latitude\"]].values)"
   ]
  },
  {
   "cell_type": "code",
   "execution_count": null,
   "metadata": {},
   "outputs": [
    {
     "ename": "ModuleNotFoundError",
     "evalue": "No module named 'trajectory_clustering'",
     "output_type": "error",
     "traceback": [
      "\u001b[0;31m---------------------------------------------------------------------------\u001b[0m",
      "\u001b[0;31mModuleNotFoundError\u001b[0m                       Traceback (most recent call last)",
      "Cell \u001b[0;32mIn[8], line 1\u001b[0m\n\u001b[0;32m----> 1\u001b[0m \u001b[38;5;28;01mfrom\u001b[39;00m \u001b[38;5;21;01mtrajectory_clustering\u001b[39;00m\u001b[38;5;21;01m.\u001b[39;00m\u001b[38;5;21;01mhua\u001b[39;00m \u001b[38;5;28;01mimport\u001b[39;00m ClusteringResult\n\u001b[1;32m      2\u001b[0m \u001b[38;5;28;01mfrom\u001b[39;00m \u001b[38;5;21;01mtrajectory_clustering\u001b[39;00m\u001b[38;5;21;01m.\u001b[39;00m\u001b[38;5;21;01mtrajectory\u001b[39;00m \u001b[38;5;28;01mimport\u001b[39;00m SpatioTemporalPoint, TrajectoryDatabase\n\u001b[1;32m      5\u001b[0m p_opt \u001b[38;5;241m=\u001b[39m ClusteringResult(kmeans\u001b[38;5;241m.\u001b[39mlabels_, kmeans\u001b[38;5;241m.\u001b[39mcluster_centers_)\n",
      "\u001b[0;31mModuleNotFoundError\u001b[0m: No module named 'trajectory_clustering'"
     ]
    }
   ],
   "source": [
    "from trajectory_clustering.hua import ClusteringResult\n",
    "from trajectory_clustering.trajectory import SpatioTemporalPoint, TrajectoryDatabase\n",
    "\n",
    "\n",
    "p_opt = ClusteringResult(kmeans.labels_, kmeans.cluster_centers_)\n",
    "trajectories = TrajectoryDatabase(\n",
    "    [\n",
    "        SpatioTemporalPoint(r[0], r[1], float(r[2]), float(r[3])) \n",
    "        for r in df_t0.itertuples(index=False)\n",
    "    ]\n",
    ")"
   ]
  },
  {
   "cell_type": "code",
   "execution_count": null,
   "metadata": {},
   "outputs": [],
   "source": [
    "from trajectory_clustering.hua import phi_sub_optimal_inidividual\n",
    "\n",
    "\n",
    "indiv_mods = phi_sub_optimal_inidividual(trajectories, p_opt, 500)"
   ]
  },
  {
   "cell_type": "code",
   "execution_count": null,
   "metadata": {},
   "outputs": [
    {
     "data": {
      "text/plain": [
       "[Modification(626, 10, 0.040260077007470585), Modification(428, 1, 0.07146175031108726), Modification(645, 6, 0.10814746142719756), Modification(710, 47, 0.11082808137112465), Modification(915, 30, 0.13808423458263697), Modification(33, 48, 0.13811349210833512), Modification(676, 47, 0.1782408834543654), Modification(481, 3, 0.1841118028812021), Modification(986, 43, 0.18542952006024294), Modification(231, 43, 0.22439660350718427), Modification(358, 29, 0.23385731084519978), Modification(170, 42, 0.24181135856994374), Modification(829, 46, 0.2504017703215524), Modification(770, 17, 0.2695091968694605), Modification(779, 13, 0.27023640327845655), Modification(947, 47, 0.29173974206977515), Modification(118, 23, 0.29464867989518684), Modification(323, 39, 0.298966054930327), Modification(19, 1, 0.3162248577209148), Modification(91, 28, 0.39794435186526655), Modification(537, 45, 0.3993132314675698), Modification(591, 32, 0.41931732530080534), Modification(163, 34, 0.4245509304229991), Modification(76, 19, 0.4355440586854895), Modification(278, 19, 0.4355440586854895), Modification(302, 25, 0.46010677687605295), Modification(56, 13, 0.4645376315483887), Modification(711, 0, 0.4858470752680706), Modification(644, 26, 0.5077486904549646), Modification(741, 23, 0.516011845448233), Modification(594, 42, 0.5437585877981617), Modification(412, 36, 0.5481008820667448), Modification(647, 12, 0.5489150536155414), Modification(505, 24, 0.6109130627877262), Modification(722, 47, 0.6384147255461317), Modification(20, 38, 0.6395304577887071), Modification(672, 18, 0.6450683467345062), Modification(155, 36, 0.6920671896445176), Modification(100, 20, 0.718712290994608), Modification(823, 48, 0.7336535869654579), Modification(875, 21, 0.7350254487475816), Modification(852, 26, 0.7508633602976014), Modification(12, 5, 0.7628314873802662), Modification(802, 12, 0.7641595848156051), Modification(553, 38, 0.7665491726585882), Modification(795, 35, 0.7876069938737933), Modification(847, 35, 0.7876069938737933), Modification(544, 29, 0.7967016424391993), Modification(906, 38, 0.8209462691905927), Modification(121, 17, 0.8237304546544495), Modification(968, 13, 0.8509457173049713), Modification(320, 33, 0.8558990858897015), Modification(506, 5, 0.8818795390031324), Modification(844, 36, 0.8876307604711888), Modification(236, 40, 0.8993568901784714), Modification(800, 28, 0.9140414310650922), Modification(737, 48, 0.916698300608096), Modification(18, 0, 0.9216794410688172), Modification(348, 2, 0.9244085994191682), Modification(897, 39, 0.9280512148210622), Modification(693, 37, 0.9337385402283154), Modification(495, 5, 0.9528502102304426), Modification(583, 5, 0.9528502102304426), Modification(816, 49, 0.9570854552936323), Modification(39, 44, 0.9822121619744797), Modification(653, 48, 0.9920326635654941), Modification(700, 49, 0.9977205728094294), Modification(768, 10, 1.0010881122993611), Modification(581, 27, 1.00189383249735), Modification(560, 45, 1.0183198287749793), Modification(217, 25, 1.0239666192074228), Modification(894, 25, 1.0239666192074228), Modification(440, 13, 1.0265853804646978), Modification(348, 47, 1.0348386728086503), Modification(661, 0, 1.0371190705172415), Modification(469, 8, 1.0424739018053888), Modification(107, 41, 1.1156126482162012), Modification(647, 0, 1.1164879845681703), Modification(436, 33, 1.1203260697447703), Modification(771, 21, 1.1306696619342045), Modification(620, 1, 1.1365624807028354), Modification(641, 6, 1.137217309377057), Modification(879, 12, 1.1611027522903647), Modification(35, 8, 1.1854315450394886), Modification(360, 47, 1.19033614948599), Modification(910, 24, 1.1916877352442752), Modification(136, 20, 1.2474651648520574), Modification(423, 20, 1.2474651648520574), Modification(713, 28, 1.2503421056384747), Modification(274, 2, 1.261652845780021), Modification(434, 2, 1.261652845780021), Modification(501, 37, 1.2638741562487237), Modification(128, 49, 1.2807806854064916), Modification(220, 11, 1.2898745024781224), Modification(858, 11, 1.2898745024781224), Modification(710, 38, 1.29137868700961), Modification(933, 3, 1.3016075237630345), Modification(245, 18, 1.3016529502326843), Modification(359, 18, 1.3245995406873758), Modification(836, 2, 1.3375637113862577), Modification(627, 7, 1.33787215932231), Modification(202, 5, 1.3381877263083517), Modification(4, 23, 1.3417560581980545), Modification(258, 27, 1.3486911686120582), Modification(685, 25, 1.3497511692260424), Modification(523, 29, 1.3560993559881247), Modification(155, 18, 1.3608138830643641), Modification(82, 0, 1.367466219628831), Modification(213, 6, 1.3704309739277836), Modification(987, 18, 1.3794304536876147), Modification(466, 20, 1.3985215250012626), Modification(975, 37, 1.4019377517271474), Modification(398, 25, 1.4090089905462033), Modification(457, 2, 1.4142639610605947), Modification(771, 13, 1.4167277011753825), Modification(254, 20, 1.4171779495436638), Modification(373, 41, 1.427035802143381), Modification(383, 2, 1.4327876133502437), Modification(143, 39, 1.4538396895241164), Modification(378, 19, 1.4739007850410228), Modification(174, 0, 1.478074943698064), Modification(764, 33, 1.4780831020434704), Modification(149, 4, 1.493224001088973), Modification(587, 11, 1.4936166090826273), Modification(42, 12, 1.509269136739361), Modification(235, 12, 1.512822984733977), Modification(113, 6, 1.5181846740149032), Modification(748, 18, 1.537940920818623), Modification(689, 48, 1.5419445170818449), Modification(740, 48, 1.5419445170818449), Modification(571, 39, 1.5538567334613251), Modification(469, 16, 1.56023143255387), Modification(93, 40, 1.5606221682742971), Modification(905, 40, 1.5681682836904107), Modification(106, 24, 1.575028545092513), Modification(569, 4, 1.5774102343079504), Modification(865, 36, 1.5850955367014539), Modification(659, 11, 1.5908214156166487), Modification(660, 16, 1.5936046604137264), Modification(104, 14, 1.6063601422112752), Modification(263, 15, 1.608124953781073), Modification(771, 25, 1.6082294670404345), Modification(127, 20, 1.6109139049272496), Modification(412, 7, 1.6190049818437249), Modification(241, 15, 1.6213430364561283), Modification(23, 27, 1.6215402835966355), Modification(191, 37, 1.6256697884208524), Modification(994, 44, 1.62792295599108), Modification(838, 10, 1.6403871393268457), Modification(254, 6, 1.6433219738742508), Modification(523, 8, 1.6561724929885173), Modification(697, 46, 1.660890472451344), Modification(32, 37, 1.6726311020900821), Modification(330, 9, 1.6920921594423355), Modification(822, 46, 1.7056511735751618), Modification(646, 12, 1.7181840420447854), Modification(424, 24, 1.726306532561181), Modification(945, 35, 1.729445090425064), Modification(535, 35, 1.7362394961672631), Modification(217, 44, 1.7469107801403219), Modification(894, 44, 1.7469107801403219), Modification(239, 44, 1.7754015584499774), Modification(27, 0, 1.77573379687695), Modification(424, 13, 1.7772844293903498), Modification(605, 45, 1.7933588295057392), Modification(782, 26, 1.7967071938005965), Modification(330, 13, 1.8101307309956702), Modification(162, 35, 1.8215706353441021), Modification(972, 35, 1.8215706353441021), Modification(469, 37, 1.8348802521507803), Modification(521, 46, 1.8459225616200206), Modification(59, 44, 1.8705422224556187), Modification(747, 44, 1.8705422224556187), Modification(596, 46, 1.8726995971041234), Modification(91, 0, 1.8846396277362611), Modification(45, 36, 1.8852755515257567), Modification(235, 0, 1.8944282112443522), Modification(120, 4, 1.9032925051955463), Modification(565, 43, 1.9080320500493437), Modification(769, 40, 1.912693260163838), Modification(901, 30, 1.9129277166710352), Modification(592, 4, 1.9192103195660613), Modification(682, 3, 1.9315762571769177), Modification(17, 37, 1.9541455717327834), Modification(259, 35, 1.9556500843167974), Modification(860, 35, 1.9604610452639024), Modification(782, 18, 1.9797937802720238), Modification(810, 36, 1.9818644283021056), Modification(790, 12, 1.9934158511254836), Modification(230, 32, 1.9991730273275792), Modification(242, 32, 2.0027782637679437), Modification(999, 7, 2.004038998487463), Modification(427, 43, 2.009232718422062), Modification(275, 49, 2.0197258460465157), Modification(273, 7, 2.0238299136150095), Modification(658, 3, 2.028601067341933), Modification(932, 18, 2.0308902215205293), Modification(711, 12, 2.031455534279152), Modification(610, 15, 2.0362926486012185), Modification(689, 4, 2.0550469988819238), Modification(740, 4, 2.0550469988819238), Modification(439, 31, 2.057933458277696), Modification(782, 42, 2.0655062616267017), Modification(473, 42, 2.06553231225951), Modification(828, 42, 2.06553231225951), Modification(952, 8, 2.075177331487901), Modification(636, 1, 2.0815037075531713), Modification(779, 48, 2.0981986667824195), Modification(232, 26, 2.1000945125889627), Modification(176, 25, 2.104015963426086), Modification(600, 12, 2.1108774964140258), Modification(914, 13, 2.1125315772470294), Modification(141, 30, 2.1294629159888165), Modification(401, 23, 2.13276166406807), Modification(268, 36, 2.137615693816173), Modification(554, 26, 2.1681584689375635), Modification(574, 26, 2.1681584689375635), Modification(659, 33, 2.1761742350297855), Modification(514, 12, 2.176868027157118), Modification(407, 45, 2.1848315082997622), Modification(517, 33, 2.1957479128612363), Modification(615, 45, 2.195838687139857), Modification(373, 22, 2.196250959791314), Modification(733, 28, 2.207087886654275), Modification(366, 18, 2.210546475671115), Modification(96, 33, 2.215538201630852), Modification(281, 2, 2.2156556898805526), Modification(478, 29, 2.2194173863189226), Modification(739, 25, 2.2241634680993574), Modification(533, 9, 2.2359578172514496), Modification(566, 7, 2.239455664536745), Modification(563, 27, 2.2406083710078946), Modification(639, 38, 2.2519238102784174), Modification(912, 5, 2.254258787820091), Modification(327, 7, 2.256070329937983), Modification(815, 18, 2.266753621719767), Modification(638, 13, 2.2700000471957162), Modification(207, 44, 2.2709735286449497), Modification(63, 11, 2.2733417893707335), Modification(964, 47, 2.279664552860755), Modification(775, 10, 2.2809863264113766), Modification(608, 32, 2.2843754642919425), Modification(161, 29, 2.2870677471017764), Modification(936, 23, 2.303189535249098), Modification(785, 49, 2.315231717196901), Modification(607, 49, 2.3265384022597733), Modification(659, 42, 2.3308519167976858), Modification(280, 23, 2.3365680680890186), Modification(637, 33, 2.3420549290421224), Modification(770, 7, 2.3465125484123366), Modification(680, 40, 2.346525730821601), Modification(566, 26, 2.3584659578893525), Modification(785, 11, 2.3642085399784856), Modification(759, 24, 2.377505051866839), Modification(267, 41, 2.3840644047891244), Modification(745, 38, 2.399087398346305), Modification(182, 12, 2.4129723759461825), Modification(343, 21, 2.415270570652484), Modification(902, 21, 2.415270570652484), Modification(342, 3, 2.418805209483901), Modification(739, 10, 2.434460877194086), Modification(182, 33, 2.436740442221568), Modification(928, 43, 2.438453056786586), Modification(238, 29, 2.440317278597436), Modification(587, 34, 2.4436150024335133), Modification(409, 20, 2.445542824036375), Modification(985, 7, 2.4515595511055226), Modification(948, 22, 2.4598860437416477), Modification(815, 23, 2.4606126944020623), Modification(856, 9, 2.471320606721367), Modification(842, 4, 2.4758664472838507), Modification(268, 26, 2.489496249149296), Modification(339, 16, 2.5099069814043), Modification(138, 23, 2.5115265617248275), Modification(286, 38, 2.513107283376974), Modification(625, 35, 2.516142648965059), Modification(550, 5, 2.5167588390245488), Modification(913, 28, 2.5208700066260246), Modification(840, 15, 2.5286832477695365), Modification(714, 30, 2.529238008182361), Modification(224, 45, 2.532842610695756), Modification(735, 41, 2.5349634374435253), Modification(17, 38, 2.537122060130547), Modification(985, 17, 2.538854734862851), Modification(961, 42, 2.5408834569830656), Modification(514, 30, 2.54091783790488), Modification(743, 9, 2.542271659159658), Modification(929, 9, 2.5543399270079936), Modification(956, 43, 2.560018012532444), Modification(479, 17, 2.5606299036255145), Modification(339, 31, 2.5641637877887637), Modification(974, 18, 2.5746762798101015), Modification(280, 1, 2.576449382951612), Modification(504, 27, 2.5788349675250837), Modification(119, 3, 2.580612432962784), Modification(525, 41, 2.581234082031675), Modification(680, 47, 2.6056782584898714), Modification(122, 40, 2.609230999903426), Modification(98, 10, 2.6126236322528626), Modification(272, 49, 2.618082745808164), Modification(226, 49, 2.618719353425716), Modification(649, 33, 2.626043343721369), Modification(657, 45, 2.6276073835037446), Modification(452, 6, 2.639967080051626), Modification(303, 22, 2.642420665885437), Modification(61, 31, 2.643781218637816), Modification(561, 28, 2.6680089286989803), Modification(679, 18, 2.6946361432380668), Modification(814, 18, 2.6946361432380668), Modification(26, 13, 2.694799186162949), Modification(744, 13, 2.694799186162949), Modification(778, 13, 2.694799186162949), Modification(973, 33, 2.6948184621716633), Modification(467, 18, 2.7055527979470693), Modification(825, 28, 2.7101220331754776), Modification(462, 43, 2.7114440506058832), Modification(279, 5, 2.720845674712767), Modification(451, 8, 2.7319869593417057), Modification(804, 27, 2.732529642098074), Modification(294, 1, 2.7386484113573752), Modification(639, 15, 2.7436832747650763), Modification(110, 47, 2.7452972793374695), Modification(733, 39, 2.7466070490730523), Modification(470, 1, 2.7496554918024803), Modification(739, 15, 2.7519261615170834), Modification(743, 13, 2.753270998902355), Modification(258, 7, 2.7681540122055317), Modification(74, 21, 2.7693114260467935), Modification(338, 21, 2.7693114260467935), Modification(213, 20, 2.770245647651066), Modification(779, 9, 2.774976603900143), Modification(459, 34, 2.7781756252327083), Modification(800, 12, 2.785642357941393), Modification(152, 22, 2.79329297692854), Modification(80, 16, 2.795029024260238), Modification(395, 25, 2.79828381816799), Modification(541, 44, 2.805578857043181), Modification(59, 4, 2.8080316575412034), Modification(747, 4, 2.8080316575412034), Modification(872, 3, 2.811679986823071), Modification(608, 15, 2.8141660515523057), Modification(614, 5, 2.818604938494632), Modification(555, 18, 2.8343638847159696), Modification(128, 11, 2.8386025325842317), Modification(572, 43, 2.8559430282093228), Modification(11, 10, 2.8600893771282987), Modification(256, 9, 2.8821897990136094), Modification(227, 18, 2.8850785584672334), Modification(886, 36, 2.887150122351904), Modification(767, 11, 2.896668697972749), Modification(312, 18, 2.91317461963264), Modification(514, 28, 2.917555115516631), Modification(482, 8, 2.940636235304182), Modification(304, 47, 2.941898757817242), Modification(241, 25, 2.9748241984963446), Modification(146, 12, 2.974899865986706), Modification(398, 32, 2.982858070853487), Modification(563, 35, 2.9869732412254297), Modification(198, 15, 2.991714373658767), Modification(884, 40, 2.9941303588954726), Modification(275, 34, 2.9969886770908545), Modification(409, 37, 3.001972665080972), Modification(560, 36, 3.009145533920888), Modification(31, 0, 3.010623347831885), Modification(594, 30, 3.0208568652723917), Modification(943, 12, 3.025072314911423), Modification(860, 7, 3.035822196299004), Modification(378, 45, 3.0484084116087242), Modification(101, 4, 3.0506080886927096), Modification(20, 8, 3.0525616136156), Modification(204, 39, 3.0751260240275746), Modification(280, 32, 3.076074050087046), Modification(191, 29, 3.0862811210758405), Modification(781, 47, 3.0900471451724902), Modification(859, 4, 3.0978618651278245), Modification(420, 44, 3.102498848238773), Modification(669, 24, 3.1215996962354113), Modification(117, 47, 3.1268908555695365), Modification(698, 5, 3.153730257403006), Modification(349, 43, 3.1622518565231683), Modification(447, 43, 3.1622518565231683), Modification(565, 15, 3.1656386221264308), Modification(457, 23, 3.1658085929518), Modification(706, 5, 3.1801629606891515), Modification(46, 23, 3.1873764875517177), Modification(109, 37, 3.188775399333209), Modification(229, 27, 3.1890208676449134), Modification(777, 29, 3.1993731464978294), Modification(4, 2, 3.199513807516281), Modification(685, 44, 3.20238456943229), Modification(952, 3, 3.2110944248698443), Modification(511, 39, 3.220955624153488), Modification(304, 38, 3.221272698128111), Modification(801, 42, 3.2258423056000396), Modification(837, 21, 3.2312256975418183), Modification(499, 0, 3.238435869676235), Modification(604, 14, 3.2421771780795776), Modification(132, 10, 3.2470180326929476), Modification(283, 49, 3.252574185330678), Modification(271, 21, 3.2556662146011384), Modification(966, 28, 3.268587449653249), Modification(497, 13, 3.2752748731096757), Modification(82, 12, 3.2998721682806487), Modification(70, 11, 3.300714637233062), Modification(703, 11, 3.300714637233062), Modification(568, 26, 3.303985206337411), Modification(27, 22, 3.307858566778184), Modification(346, 20, 3.3091945971534367), Modification(665, 18, 3.3152915769851266), Modification(485, 9, 3.3228717470111597), Modification(709, 32, 3.328615843910681), Modification(328, 39, 3.3383401057098103), Modification(488, 7, 3.3429697546300803), Modification(49, 42, 3.3492340756922427), Modification(864, 13, 3.3698417669927627), Modification(33, 4, 3.373432292065976), Modification(501, 16, 3.382036086689469), Modification(204, 12, 3.400471068235011), Modification(255, 3, 3.4012570522635475), Modification(13, 25, 3.408190775727526), Modification(295, 43, 3.408288507033747), Modification(307, 25, 3.4191310764539784), Modification(119, 29, 3.4234419981787987), Modification(582, 24, 3.4359178055888924), Modification(996, 24, 3.4359178055888924), Modification(963, 7, 3.4476129126163357), Modification(960, 37, 3.458218051797786), Modification(224, 46, 3.4616450829360854), Modification(2, 10, 3.463841338883065), Modification(675, 10, 3.463841338883065), Modification(794, 16, 3.469870322460512), Modification(475, 0, 3.472222263250191), Modification(408, 19, 3.478134908688337), Modification(115, 2, 3.481960420698334), Modification(667, 31, 3.482697122496206), Modification(719, 29, 3.4887563392249072), Modification(754, 47, 3.492052202074789), Modification(992, 40, 3.494231029921078), Modification(37, 40, 3.5024495281947026), Modification(311, 30, 3.5027712442336014), Modification(132, 25, 3.505699316962403), Modification(336, 44, 3.518919404008666), Modification(815, 42, 3.519649567634291), Modification(997, 19, 3.523908708838767), Modification(854, 14, 3.5253837214498125), Modification(749, 33, 3.5270357102858503), Modification(259, 7, 3.5300489574061045), Modification(467, 45, 3.5308463259235534), Modification(303, 41, 3.534617447764248), Modification(759, 13, 3.538189147281603), Modification(735, 22, 3.541571497932119), Modification(736, 37, 3.5444166827503487), Modification(359, 23, 3.5464427574111683), Modification(462, 3, 3.560221537362726), Modification(524, 35, 3.5659114392597537), Modification(44, 49, 3.5696231637098843), Modification(353, 16, 3.5713660972205084), Modification(472, 2, 3.578275780585866), Modification(158, 23, 3.578466624956971), Modification(84, 37, 3.580522638884365), Modification(839, 48, 3.5842716302015765), Modification(20, 47, 3.5857647064360307), Modification(559, 12, 3.586608584579536), Modification(372, 42, 3.587023356870321), Modification(195, 46, 3.5916610759812357), Modification(780, 28, 3.604607650465983), Modification(28, 3, 3.6094072412607954), Modification(478, 8, 3.613367700224699), Modification(496, 1, 3.617650222252414), Modification(497, 21, 3.6311563023623252), Modification(154, 21, 3.637821522817106), Modification(693, 20, 3.6403923799332967), Modification(110, 2, 3.643580063821462), Modification(394, 7, 3.649052710294547), Modification(649, 2, 3.6574803351858094), Modification(393, 35, 3.6597371025990464), Modification(872, 31, 3.6650253977823652), Modification(383, 47, 3.6709082819925465), Modification(406, 40, 3.684093139192333), Modification(762, 11, 3.6871586098353646), Modification(705, 48, 3.689355704956272), Modification(470, 36, 3.692735782892436), Modification(187, 11, 3.7007216090417527), Modification(376, 48, 3.7027482014441517), Modification(392, 23, 3.7074729297793), Modification(647, 28, 3.710956819549404), Modification(904, 28, 3.714058657827274), Modification(464, 6, 3.7146275752891427), Modification(655, 7, 3.723686558771691), Modification(679, 26, 3.731163755898108), Modification(814, 26, 3.731163755898108), Modification(474, 41, 3.7489938335479334), Modification(978, 21, 3.750039942473485), Modification(407, 19, 3.7540800995677106), Modification(878, 17, 3.7626375817466373), Modification(689, 13, 3.763310718346025), Modification(740, 13, 3.763310718346025), Modification(766, 44, 3.767915322146223), Modification(796, 34, 3.7744397314860443), Modification(937, 15, 3.774458370894637)]\n"
      ]
     },
     "metadata": {},
     "output_type": "display_data"
    }
   ],
   "source": [
    "indiv_mods"
   ]
  },
  {
   "cell_type": "code",
   "execution_count": null,
   "metadata": {},
   "outputs": [],
   "source": [
    "from trajectory_clustering.hua import phi_sub_optimal\n",
    "\n",
    "\n",
    "mods = phi_sub_optimal(trajectories, p_opt, 500)"
   ]
  }
 ],
 "metadata": {
  "kernelspec": {
   "display_name": ".venv",
   "language": "python",
   "name": "python3"
  },
  "language_info": {
   "codemirror_mode": {
    "name": "ipython",
    "version": 3
   },
   "file_extension": ".py",
   "mimetype": "text/x-python",
   "name": "python",
   "nbconvert_exporter": "python",
   "pygments_lexer": "ipython3",
   "version": "3.12.7"
  }
 },
 "nbformat": 4,
 "nbformat_minor": 2
}
