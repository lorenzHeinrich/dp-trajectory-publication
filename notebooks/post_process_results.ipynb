{
 "cells": [
  {
   "cell_type": "code",
   "execution_count": 3,
   "id": "f0f90a32",
   "metadata": {},
   "outputs": [],
   "source": [
    "import os\n",
    "import pandas as pd"
   ]
  },
  {
   "cell_type": "code",
   "execution_count": 4,
   "id": "0b3e079b",
   "metadata": {},
   "outputs": [],
   "source": [
    "experiment = \"cluster\"\n",
    "\n",
    "os.makedirs(f\"../results/dpapt/post/{experiment}/filter\", exist_ok=True)\n",
    "os.makedirs(f\"../results/dpapt/post/{experiment}/no_filter/\", exist_ok=True)"
   ]
  },
  {
   "cell_type": "code",
   "execution_count": 3,
   "id": "c2fa3d21",
   "metadata": {},
   "outputs": [],
   "source": [
    "df = pd.read_csv(f\"../results/dpapt/{experiment}/indiv_hd.csv\")"
   ]
  },
  {
   "cell_type": "code",
   "execution_count": 4,
   "id": "8fd22fe3",
   "metadata": {},
   "outputs": [],
   "source": [
    "df_center = df[\n",
    "    (df[\"sample\"] == False) &\n",
    "    (df[\"uniform\"] == False)\n",
    "]\n",
    "df_do_filter = df_center[\n",
    "    (df_center[\"do_filter\"] == True)\n",
    "]\n",
    "df_do_filter.to_csv(\n",
    "    f\"../results/dpapt/post/{experiment}/filter/indiv_hd_center.csv\",\n",
    "    index=False\n",
    ")\n",
    "df_no_filter = df_center[\n",
    "    (df_center[\"do_filter\"] == False)\n",
    "]\n",
    "df_no_filter.to_csv(\n",
    "    f\"../results/dpapt/post/{experiment}/no_filter/indiv_hd_center.csv\",\n",
    "    index=False\n",
    ")\n"
   ]
  },
  {
   "cell_type": "code",
   "execution_count": 5,
   "id": "bee2d21f",
   "metadata": {},
   "outputs": [],
   "source": [
    "df_center_uniform = df[\n",
    "    (df[\"sample\"] == False) &\n",
    "    (df[\"uniform\"] == True)\n",
    "]"
   ]
  },
  {
   "cell_type": "code",
   "execution_count": 6,
   "id": "6f77c952",
   "metadata": {},
   "outputs": [],
   "source": [
    "df_do_filter = df_center_uniform[\n",
    "    df_center_uniform[\"do_filter\"] == True\n",
    "]\n",
    "df_do_filter.to_csv(f\"../results/dpapt/post/{experiment}/filter/indiv_hd_center_uniform.csv\", index=False)\n",
    "df_no_filter = df_center_uniform[\n",
    "    df_center_uniform[\"do_filter\"] == False\n",
    "]\n",
    "df_no_filter.to_csv(f\"../results/dpapt/post/{experiment}/no_filter/indiv_hd_center_uniform.csv\", index=False)"
   ]
  },
  {
   "cell_type": "code",
   "execution_count": 7,
   "id": "c54130c7",
   "metadata": {},
   "outputs": [],
   "source": [
    "df_center_sample = df[\n",
    "    (df[\"sample\"] == True) &\n",
    "    (df[\"uniform\"] == False)\n",
    "]\n",
    "df_do_filter = df_center_sample[\n",
    "    df_center_sample[\"do_filter\"] == True\n",
    "]\n",
    "df_do_filter.to_csv(f\"../results/dpapt/post/{experiment}/filter/indiv_hd_sample.csv\", index=False)\n",
    "df_no_filter = df_center_sample[\n",
    "    df_center_sample[\"do_filter\"] == False\n",
    "]\n",
    "df_no_filter.to_csv(f\"../results/dpapt/post/{experiment}/no_filter/indiv_hd_sample.csv\", index=False)"
   ]
  },
  {
   "cell_type": "code",
   "execution_count": 8,
   "id": "b989ceb8",
   "metadata": {},
   "outputs": [],
   "source": [
    "df_center_sample_uniform = df[\n",
    "    (df[\"sample\"] == True) &\n",
    "    (df[\"uniform\"] == True)\n",
    "]\n",
    "df_do_filter = df_center_sample_uniform[\n",
    "    df_center_sample_uniform[\"do_filter\"] == True\n",
    "]\n",
    "df_do_filter.to_csv(f\"../results/dpapt/post/{experiment}/filter/indiv_hd_sample_uniform.csv\", index=False)\n",
    "df_no_filter = df_center_sample_uniform[\n",
    "    df_center_sample_uniform[\"do_filter\"] == False\n",
    "]\n",
    "df_no_filter.to_csv(f\"../results/dpapt/post/{experiment}/no_filter/indiv_hd_sample_uniform.csv\", index=False)"
   ]
  },
  {
   "cell_type": "code",
   "execution_count": 5,
   "id": "49bb9f3a",
   "metadata": {},
   "outputs": [],
   "source": [
    "df = pd.read_csv(f\"../results/dpapt/{experiment}/query_distortion.csv\")"
   ]
  },
  {
   "cell_type": "code",
   "execution_count": 6,
   "id": "ec3bd315",
   "metadata": {},
   "outputs": [],
   "source": [
    "df_center = df[\n",
    "    (df[\"sample\"] == False) &\n",
    "    (df[\"uniform\"] == False)\n",
    "]\n",
    "df_do_filter = df_center[\n",
    "    (df_center[\"do_filter\"] == True)\n",
    "]\n",
    "df_do_filter.to_csv(\n",
    "    f\"../results/dpapt/post/{experiment}/filter/query_distortion_center.csv\",\n",
    "    index=False\n",
    ")\n",
    "df_no_filter = df_center[\n",
    "    (df_center[\"do_filter\"] == False)\n",
    "]\n",
    "df_no_filter.to_csv(\n",
    "    f\"../results/dpapt/post/{experiment}/no_filter/query_distortion_center.csv\",\n",
    "    index=False\n",
    ")"
   ]
  },
  {
   "cell_type": "code",
   "execution_count": 7,
   "id": "afc16418",
   "metadata": {},
   "outputs": [],
   "source": [
    "df_sample = df[\n",
    "    (df[\"sample\"] == True) &\n",
    "    (df[\"uniform\"] == False)\n",
    "]\n",
    "df_do_filter = df_sample[\n",
    "    (df_sample[\"do_filter\"] == True)\n",
    "]\n",
    "df_do_filter.to_csv(\n",
    "    f\"../results/dpapt/post/{experiment}/filter/query_distortion_sample.csv\",\n",
    "    index=False\n",
    ")\n",
    "df_no_filter = df_sample[\n",
    "    (df_sample[\"do_filter\"] == False)\n",
    "]\n",
    "df_no_filter.to_csv(\n",
    "    f\"../results/dpapt/post/{experiment}/no_filter/query_distortion_sample.csv\",\n",
    "    index=False\n",
    ")"
   ]
  }
 ],
 "metadata": {
  "kernelspec": {
   "display_name": ".venv",
   "language": "python",
   "name": "python3"
  },
  "language_info": {
   "codemirror_mode": {
    "name": "ipython",
    "version": 3
   },
   "file_extension": ".py",
   "mimetype": "text/x-python",
   "name": "python",
   "nbconvert_exporter": "python",
   "pygments_lexer": "ipython3",
   "version": "3.12.7"
  }
 },
 "nbformat": 4,
 "nbformat_minor": 5
}
